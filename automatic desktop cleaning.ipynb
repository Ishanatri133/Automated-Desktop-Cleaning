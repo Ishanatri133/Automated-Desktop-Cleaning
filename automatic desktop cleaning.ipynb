{
 "cells": [
  {
   "cell_type": "code",
   "execution_count": 1,
   "id": "97ab9241",
   "metadata": {},
   "outputs": [],
   "source": [
    "import os\n",
    "import shutil"
   ]
  },
  {
   "cell_type": "code",
   "execution_count": 10,
   "id": "95f889ab",
   "metadata": {},
   "outputs": [
    {
     "data": {
      "text/plain": [
       "'C:\\\\Users\\\\ishan/Desktop'"
      ]
     },
     "execution_count": 10,
     "metadata": {},
     "output_type": "execute_result"
    }
   ],
   "source": [
    "desktop_path =os.path.expanduser(\"~/Desktop\")\n",
    "desktop_path"
   ]
  },
  {
   "cell_type": "code",
   "execution_count": 13,
   "id": "d4728a6f",
   "metadata": {},
   "outputs": [
    {
     "data": {
      "text/plain": [
       "['6cbc23da4605cd60916402f80fc5c0f4.jpg',\n",
       " 'apps',\n",
       " 'Bengaluru_House_Data.csv',\n",
       " 'cleandesk',\n",
       " 'Computer-System-Architecture-M.-Morris-Mano.pdf',\n",
       " 'desktop.ini',\n",
       " 'desktop_cleaning',\n",
       " 'game',\n",
       " 'GDS4719_full.soft',\n",
       " 'GitHub Desktop.lnk',\n",
       " 'Ishan files',\n",
       " 'New folder',\n",
       " 'Non Systemic Lupus Erythematosus-1.csv',\n",
       " 'p5j5',\n",
       " 'papa files',\n",
       " 'paper_11_1497_49.pdf',\n",
       " 'photos',\n",
       " 'posture-detector',\n",
       " 'SIH',\n",
       " 'SLE RESEARCH MAIN',\n",
       " 'Velzck_Shop-main']"
      ]
     },
     "execution_count": 13,
     "metadata": {},
     "output_type": "execute_result"
    }
   ],
   "source": [
    "desktop_path = 'C:\\\\Users\\\\ishan\\\\OneDrive\\\\Desktop'\n",
    "os.listdir(desktop_path)"
   ]
  },
  {
   "cell_type": "code",
   "execution_count": 14,
   "id": "ee7a93ca",
   "metadata": {},
   "outputs": [
    {
     "data": {
      "text/plain": [
       "'C:\\\\Users\\\\ishan\\\\OneDrive\\\\Desktop\\\\Velzck_Shop-main'"
      ]
     },
     "execution_count": 14,
     "metadata": {},
     "output_type": "execute_result"
    }
   ],
   "source": [
    "os.path.join(desktop_path,'Velzck_Shop-main')"
   ]
  },
  {
   "cell_type": "code",
   "execution_count": 16,
   "id": "9ac88c00",
   "metadata": {},
   "outputs": [],
   "source": [
    "desktop_path = 'C:\\\\Users\\\\ishan\\\\OneDrive\\\\Desktop'\n",
    "desktop_path\n",
    "\n",
    "files_by_extension = {}\n",
    "\n",
    "for filename in os.listdir(desktop_path):\n",
    "    file_path = os.path.join(desktop_path,filename)\n",
    "    \n",
    "    if os.path.isfile(file_path):\n",
    "        \n",
    "        file_extension = os.path.splitext(filename)[1]\n",
    "        \n",
    "        if file_extension not in files_by_extension:\n",
    "            files_by_extension[file_extension]=[]\n",
    "        \n",
    "        files_by_extension[file_extension].append(file_path)"
   ]
  },
  {
   "cell_type": "code",
   "execution_count": 17,
   "id": "7f9a6b56",
   "metadata": {},
   "outputs": [
    {
     "data": {
      "text/plain": [
       "{'.jpg': ['C:\\\\Users\\\\ishan\\\\OneDrive\\\\Desktop\\\\6cbc23da4605cd60916402f80fc5c0f4.jpg'],\n",
       " '.csv': ['C:\\\\Users\\\\ishan\\\\OneDrive\\\\Desktop\\\\Bengaluru_House_Data.csv',\n",
       "  'C:\\\\Users\\\\ishan\\\\OneDrive\\\\Desktop\\\\Non Systemic Lupus Erythematosus-1.csv'],\n",
       " '.pdf': ['C:\\\\Users\\\\ishan\\\\OneDrive\\\\Desktop\\\\Computer-System-Architecture-M.-Morris-Mano.pdf',\n",
       "  'C:\\\\Users\\\\ishan\\\\OneDrive\\\\Desktop\\\\paper_11_1497_49.pdf'],\n",
       " '.ini': ['C:\\\\Users\\\\ishan\\\\OneDrive\\\\Desktop\\\\desktop.ini'],\n",
       " '.soft': ['C:\\\\Users\\\\ishan\\\\OneDrive\\\\Desktop\\\\GDS4719_full.soft'],\n",
       " '.lnk': ['C:\\\\Users\\\\ishan\\\\OneDrive\\\\Desktop\\\\GitHub Desktop.lnk']}"
      ]
     },
     "execution_count": 17,
     "metadata": {},
     "output_type": "execute_result"
    }
   ],
   "source": [
    "files_by_extension"
   ]
  },
  {
   "cell_type": "code",
   "execution_count": 18,
   "id": "4a567354",
   "metadata": {},
   "outputs": [],
   "source": [
    "# Create a folder for each file extension and move the files to its respective folder.\n",
    "\n",
    "for file_extension,file_paths in files_by_extension.items():\n",
    "    folder_name = f\"{file_extension[1:].upper()} Files\"\n",
    "    folder_path = os.path.join(desktop_path,folder_name)\n",
    "    \n",
    "    \n",
    "    # Create the folder if it doesn't exist\n",
    "    if not os.path.exists(folder_path):\n",
    "        os.makedirs(folder_path)\n",
    "        \n",
    "    # Moving the files to respective folders\n",
    "    for file_path in file_paths:\n",
    "        shutil.move(file_path,folder_path)"
   ]
  }
 ],
 "metadata": {
  "kernelspec": {
   "display_name": "Python 3 (ipykernel)",
   "language": "python",
   "name": "python3"
  },
  "language_info": {
   "codemirror_mode": {
    "name": "ipython",
    "version": 3
   },
   "file_extension": ".py",
   "mimetype": "text/x-python",
   "name": "python",
   "nbconvert_exporter": "python",
   "pygments_lexer": "ipython3",
   "version": "3.10.9"
  }
 },
 "nbformat": 4,
 "nbformat_minor": 5
}
